{
 "cells": [
  {
   "cell_type": "markdown",
   "metadata": {},
   "source": [
    "### 1. In the below elements which of them are values or an expression? eg:- values can be integer or string and expressions will be mathematical operators.\n",
    "*         (Expression / mathematical operators)\n",
    "'hello'   (String / Value)\n",
    "-87.8     (Integer / Value)\n",
    "-         (Expression)\n",
    "/         (Expression)\n",
    "+\t      (Expression)\n",
    "6         (Integer)\n"
   ]
  },
  {
   "cell_type": "markdown",
   "metadata": {},
   "source": [
    "### 2. What is the difference between string and variable?\n",
    "\n",
    "A string is a value representing text. a variable is a name that can refer to any value. quotes, double or single, (they mean the same, but can't be matched with each other) are used to create string literals, the quotes are there to indicate that the text that they enclose is not code, it is a value.\n",
    "\n",
    "A variable is basically the name of the location in the primary memory of your computer. This can be chosen by you. A variable can store everything from strings to numbers. A string is the values inside the quotes assigned to a string.\n",
    "            "
   ]
  },
  {
   "cell_type": "markdown",
   "metadata": {},
   "source": [
    "### 3. Describe three different data types.\n",
    "\n",
    "1. Python Numbers\n",
    "We can find complex numbers, floating point numbers and integers in the category of Python Numbers. Complex numbers are defined as a complex class, floating point numbers are defined as float and integers are defined as an int in Python. There is one more type of datatype in this category, and that is long. It is used to hold longer integers. One will find this datatype only in Python 2.x which was later removed in Python 3.x. \n",
    "\n",
    "“Type()” function is used to know the class of a value or variable. To check the value for a particular class, “isinstance()” function is used. \n",
    "\n",
    "Integers:\n",
    "There is no maximum limit on the value of an integer. The integer can be of any length without any limitation which can go up to the maximum available memory of the system. \n",
    "Integers can look like this:\n",
    ">>> print(123123123123123123123123123123123123123123123123123 + 1)\n",
    "123123123123123123123123123123123123123123123123124\n",
    "\n",
    "Floating Point Number:\n",
    "The difference between floating points and integers is decimal points. Floating point number can be represented as “1.0”, and integer can be represented as “1”. It is accurate up to 15 decimal places.\n",
    "Complex Number:\n",
    "“x + yj” is the written form of the complex number. Here y is the imaginary part and x is the real part.\n",
    "2. Python List\n",
    "An ordered sequence of items is called List. It is a very flexible data type in Python. There is no need for the value in the list to be of the same data type. The List is the data type that is highly used data type in Python. List datatype is the most exclusive datatype in Python for containing versatile data. It can easily hold different types of data in Python.  \n",
    "\n",
    "It is effortless to declare a list. The list is enclosed with brackets and commas are used to separate the items. \n",
    "\n",
    "A list can look like this:\n",
    "\n",
    ">>> a = [5,9.9,’list’]\n",
    "\n",
    "One can also alter the value of an element in the list.\n",
    "\n",
    "3. Python Tuple\n",
    "A Tuple is a sequence of items that are in order, and it is not possible to modify the Tuples. The main difference list and tuples are that tuple is immutable, which means it cannot be altered. Tuples are generally faster than the list data type in Python because it cannot be changed or modified like list datatype. The primary use of Tuples is to write-protect data. Tuples can be represented by using parentheses (), and commas are used to separate the items. \n",
    "\n",
    "Tuples can look like this:\n",
    "\n",
    ">>> t = (6,’tuple’,4+2r)\n",
    "\n",
    "In the case of a tuple, one can use the slicing operator to extract the item, but it will not allow changing the value. "
   ]
  },
  {
   "cell_type": "markdown",
   "metadata": {},
   "source": [
    "### 4. What is an expression made up of? \n",
    "\n",
    "An expression is a construct made up of variables, operators, and method invocations, which are constructed according to the syntax of the language, that evaluates to a single value. ... As you can see from the other expressions, an expression can return other types of values as well, such as boolean or String .An expression is a combination of values and operators. All expressions evaluate (that is, reduce) to a single value.\n",
    "\n",
    "What do all expressions do in Python?\n",
    "An expression is an instruction that combines values and operators and always evaluates down to a single value. The 2s are integer values and the + is the mathematical operator. This expression evaluates down to the single integer value 4."
   ]
  },
  {
   "cell_type": "markdown",
   "metadata": {},
   "source": [
    "### 5. This assignment statements, like spam = 10. What is the difference between an expression and a statement?\n",
    "\n",
    "Statements represent an action or command e.g print statements, assignment statements. Expression is a combination of variables, operations and values that yields a result value. An expression is a combination of values, variables, operators, and calls to functions. \n",
    "Expressions are representations of value. They are different from statement in the fact that statements do something while expressions are representation of value. ... Python has some advanced constructs through which you can represent values and hence these constructs are also called expressions.\n",
    "There are different types of statements in the Python programming language like Assignment statements, Conditional statements, Looping statements, etc. These all help the user to get the required output. For example, n = 50 is an assignment statement.\n"
   ]
  },
  {
   "cell_type": "markdown",
   "metadata": {},
   "source": [
    "### 6. After running the following code, what does the variable bacon contain?\n",
    "bacon = 22\n",
    "bacon + 1\n",
    "\n",
    "  BACON CONTAINS VALUE 23 AFTER RUNNING ABOVE CODE"
   ]
  },
  {
   "cell_type": "markdown",
   "metadata": {},
   "source": [
    "### 7. What should the values of the following two terms be?\n",
    "'spam' + 'spamspam'\n",
    "'spam' * 3"
   ]
  },
  {
   "cell_type": "code",
   "execution_count": 3,
   "metadata": {},
   "outputs": [
    {
     "data": {
      "text/plain": [
       "'spamspamspam'"
      ]
     },
     "execution_count": 3,
     "metadata": {},
     "output_type": "execute_result"
    }
   ],
   "source": [
    "'spam' + 'spamspam'"
   ]
  },
  {
   "cell_type": "code",
   "execution_count": 4,
   "metadata": {},
   "outputs": [
    {
     "data": {
      "text/plain": [
       "'spamspamspam'"
      ]
     },
     "execution_count": 4,
     "metadata": {},
     "output_type": "execute_result"
    }
   ],
   "source": [
    "'spam' * 3"
   ]
  },
  {
   "cell_type": "markdown",
   "metadata": {},
   "source": [
    "'spam' + 'spamspam'\n",
    "'spam' * 3\n",
    "Both expressions evaluate to the string 'spamspamspam'"
   ]
  },
  {
   "cell_type": "markdown",
   "metadata": {},
   "source": [
    "### 8. Why is eggs a valid variable name while 100 is invalid?\n",
    "\n",
    "Variable names cannot begin with a number. "
   ]
  },
  {
   "cell_type": "markdown",
   "metadata": {},
   "source": [
    "### 9. What three functions can be used to get the integer, floating-point number, or string version of a value?\n",
    "\n",
    "The int(), float(), and str() functions will evaluate to the integer, floating-point number, and string versions of the value passed to them.\n"
   ]
  },
  {
   "cell_type": "markdown",
   "metadata": {},
   "source": [
    "### 10. Why does this expression cause an error? How can you fix it?\n",
    "'I have eaten ' + 99 + ' burritos.'\n",
    "\n",
    "The expression causes an error because 99 is an integer, and only strings can be concatenated to other strings with the + operator. The correct way is I have eaten ' + str(99) + ' burritos.'."
   ]
  },
  {
   "cell_type": "markdown",
   "metadata": {},
   "source": []
  },
  {
   "cell_type": "markdown",
   "metadata": {},
   "source": [
    "## Thank You"
   ]
  },
  {
   "cell_type": "code",
   "execution_count": null,
   "metadata": {},
   "outputs": [],
   "source": []
  }
 ],
 "metadata": {
  "kernelspec": {
   "display_name": "Python 3",
   "language": "python",
   "name": "python3"
  },
  "language_info": {
   "codemirror_mode": {
    "name": "ipython",
    "version": 3
   },
   "file_extension": ".py",
   "mimetype": "text/x-python",
   "name": "python",
   "nbconvert_exporter": "python",
   "pygments_lexer": "ipython3",
   "version": "3.7.6"
  }
 },
 "nbformat": 4,
 "nbformat_minor": 4
}
